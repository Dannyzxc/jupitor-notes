{
 "cells": [
  {
   "cell_type": "code",
   "execution_count": 2,
   "id": "c76e6f70",
   "metadata": {},
   "outputs": [
    {
     "name": "stdout",
     "output_type": "stream",
     "text": [
      "1\n",
      "2\n",
      "3\n",
      "4\n"
     ]
    }
   ],
   "source": [
    "from array import *\n",
    "\n",
    "arrSample = array('i',[1,2,3,4])\n",
    "\n",
    "for i in arrSample:print(i)"
   ]
  },
  {
   "cell_type": "code",
   "execution_count": 4,
   "id": "81d633c1",
   "metadata": {},
   "outputs": [
    {
     "name": "stdout",
     "output_type": "stream",
     "text": [
      "i\n",
      "[1, 2, 3, 4]\n"
     ]
    }
   ],
   "source": [
    "mylist = ['i',[1,2,3,4]]\n",
    "\n",
    "for i in mylist:print(i)"
   ]
  },
  {
   "cell_type": "code",
   "execution_count": 5,
   "id": "3c3eb116",
   "metadata": {},
   "outputs": [
    {
     "name": "stdout",
     "output_type": "stream",
     "text": [
      "1\n",
      "2\n",
      "3\n",
      "4\n"
     ]
    }
   ],
   "source": [
    "from array import *\n",
    "\n",
    "arrSample = array('i',[1,2,3,4])\n",
    "\n",
    "for i in arrSample:print(i)"
   ]
  },
  {
   "cell_type": "code",
   "execution_count": 7,
   "id": "39ff1990",
   "metadata": {},
   "outputs": [
    {
     "name": "stdout",
     "output_type": "stream",
     "text": [
      "1\n",
      "2\n",
      "3\n",
      "4\n"
     ]
    }
   ],
   "source": [
    "from array import *\n",
    "\n",
    "arrSample = array('i',[1,2,3,4])\n",
    "\n",
    "for j in arrSample:print(j)"
   ]
  },
  {
   "cell_type": "code",
   "execution_count": null,
   "id": "ae61a42c",
   "metadata": {},
   "outputs": [],
   "source": []
  }
 ],
 "metadata": {
  "kernelspec": {
   "display_name": "Python 3 (ipykernel)",
   "language": "python",
   "name": "python3"
  },
  "language_info": {
   "codemirror_mode": {
    "name": "ipython",
    "version": 3
   },
   "file_extension": ".py",
   "mimetype": "text/x-python",
   "name": "python",
   "nbconvert_exporter": "python",
   "pygments_lexer": "ipython3",
   "version": "3.11.0"
  }
 },
 "nbformat": 4,
 "nbformat_minor": 5
}
